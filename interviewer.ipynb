{
 "cells": [
  {
   "cell_type": "markdown",
   "id": "d515c80e-3194-4505-8817-0d58b937a83a",
   "metadata": {},
   "source": [
    "# 安装各种包\n",
    "\n",
    "* #%pip install soundfile\n",
    "* %pip install openai-whisper\n",
    "* %pip install setuptools-rust\n",
    "* %pip install pyaudio\n",
    "* %pip install SpeechRecognition\n",
    "* %pip install ipywidgets\n",
    "'''\n",
    "\n",
    "* [openai whisper offline model](https://github.com/openai/whisper)\n",
    "\n",
    "* ↓修改下面的 openai key，用于从gpt自动回答问题"
   ]
  },
  {
   "cell_type": "code",
   "execution_count": 1,
   "id": "fd5407b6-4228-48a6-9024-85a745604146",
   "metadata": {},
   "outputs": [],
   "source": [
    "import openai\n",
    "openai.api_key = '改成你自己的key'"
   ]
  },
  {
   "cell_type": "code",
   "execution_count": 2,
   "id": "70ff4034-155d-492c-960d-9831d7641db2",
   "metadata": {},
   "outputs": [
    {
     "name": "stderr",
     "output_type": "stream",
     "text": [
      "/Users/xiayun/miniconda3/envs/py311/lib/python3.11/site-packages/whisper/timing.py:57: NumbaDeprecationWarning: \u001b[1mThe 'nopython' keyword argument was not supplied to the 'numba.jit' decorator. The implicit default value for this argument is currently False, but it will be changed to True in Numba 0.59.0. See https://numba.readthedocs.io/en/stable/reference/deprecation.html#deprecation-of-object-mode-fall-back-behaviour-when-using-jit for details.\u001b[0m\n",
      "  @numba.jit\n"
     ]
    }
   ],
   "source": [
    "import whisper\n",
    "from io import BytesIO\n",
    "import numpy as np\n",
    "import soundfile as sf\n",
    "from numba import jit\n",
    "\n",
    "model = whisper.load_model(\"small\")"
   ]
  },
  {
   "cell_type": "code",
   "execution_count": 3,
   "id": "b4a9178d-f5e0-4b44-907f-11baff506855",
   "metadata": {
    "tags": []
   },
   "outputs": [
    {
     "data": {
      "application/vnd.jupyter.widget-view+json": {
       "model_id": "0b23c39e7c574ae4aaf6efbfb43af651",
       "version_major": 2,
       "version_minor": 0
      },
      "text/plain": [
       "Button(button_style='success', description='Record', icon='microphone', style=ButtonStyle(), tooltip='Record')"
      ]
     },
     "metadata": {},
     "output_type": "display_data"
    },
    {
     "data": {
      "application/vnd.jupyter.widget-view+json": {
       "model_id": "4b149e1917134865bd6a3226db0bf48d",
       "version_major": 2,
       "version_minor": 0
      },
      "text/plain": [
       "Button(button_style='warning', description='Stop', icon='stop', style=ButtonStyle(), tooltip='Stop')"
      ]
     },
     "metadata": {},
     "output_type": "display_data"
    },
    {
     "data": {
      "application/vnd.jupyter.widget-view+json": {
       "model_id": "2ab95d9d3cc449d3b9e4c201afcd85c0",
       "version_major": 2,
       "version_minor": 0
      },
      "text/plain": [
       "Button(button_style='info', description='Clear', icon='trash', style=ButtonStyle(), tooltip='Clear')"
      ]
     },
     "metadata": {},
     "output_type": "display_data"
    },
    {
     "data": {
      "application/vnd.jupyter.widget-view+json": {
       "model_id": "17cdb30777554536adba964083c25a50",
       "version_major": 2,
       "version_minor": 0
      },
      "text/plain": [
       "Output()"
      ]
     },
     "metadata": {},
     "output_type": "display_data"
    }
   ],
   "source": [
    "import json\n",
    "import threading\n",
    "import speech_recognition as sr\n",
    "import requests\n",
    "\n",
    "# 创建语音识别器对象\n",
    "recog = sr.Recognizer()\n",
    "mic = sr.Microphone()\n",
    "\n",
    "recording = False\n",
    "stopper = None\n",
    "\n",
    "from IPython.display import display\n",
    "import ipywidgets as widgets\n",
    "\n",
    "record_button = widgets.Button(\n",
    "    description='Record',\n",
    "    disabled=False,\n",
    "    button_style='success',\n",
    "    tooltip='Record',\n",
    "    icon='microphone'\n",
    ")\n",
    "\n",
    "stop_button = widgets.Button(\n",
    "    description='Stop',\n",
    "    disabled=False,\n",
    "    button_style='warning',\n",
    "    tooltip='Stop',\n",
    "    icon='stop'\n",
    ")\n",
    "\n",
    "clear_button = widgets.Button(\n",
    "    description='Clear',\n",
    "    disabled=False,\n",
    "    button_style='info',\n",
    "    tooltip='Clear',\n",
    "    icon='trash'\n",
    ")\n",
    "\n",
    "output = widgets.Output()\n",
    "\n",
    "def start_recording(data):\n",
    "    with output:\n",
    "        global recording\n",
    "        recording = True\n",
    "        listen()\n",
    "\n",
    "def stop_recording(data):\n",
    "    with output:\n",
    "        global recording\n",
    "        recording = False\n",
    "        stopper(wait_for_stop=False)\n",
    "        append_text(\"录音已停止\")\n",
    "    \n",
    "def clear_out(data):\n",
    "    output.clear_output()\n",
    "    \n",
    "def append_text(text):\n",
    "    output.append_display_data(text)\n",
    "        \n",
    "def listen():\n",
    "    # 降低噪音\n",
    "    #with mic:\n",
    "    #    recog.adjust_for_ambient_noise(mic)\n",
    "\n",
    "    # 开始在后台录音\n",
    "    append_text(\"请开始说话...\")\n",
    "    global stopper\n",
    "    stopper = recog.listen_in_background(mic, callback, phrase_time_limit=15)\n",
    "    \n",
    "def callback(recognizer, audio):\n",
    "    append_text('已获取语音')\n",
    "    t_transcribe = threading.Thread(target=transcribe, args=(audio,))\n",
    "    t_transcribe.start()\n",
    "\n",
    "record_button.on_click(start_recording)\n",
    "stop_button.on_click(stop_recording)\n",
    "clear_button.on_click(clear_out)\n",
    "\n",
    "display(record_button, stop_button, clear_button, output)"
   ]
  },
  {
   "cell_type": "code",
   "execution_count": 4,
   "id": "bacb3791-f2a3-473c-8d5c-e3e12ca3d058",
   "metadata": {},
   "outputs": [],
   "source": [
    "def voice_to_text(audio_data):\n",
    "    # 16 kHz https://github.com/openai/whisper/blob/28769fcfe50755a817ab922a7bc83483159600a9/whisper/audio.py#L98-L99\n",
    "    wav_bytes = audio_data.get_wav_data(convert_rate=16000)\n",
    "    wav_stream = BytesIO(wav_bytes)\n",
    "    audio_array, sampling_rate = sf.read(wav_stream)\n",
    "    audio_array = audio_array.astype(np.float32)\n",
    "\n",
    "    prompt = '这是一场java面试，可能出现：开源、数组、链表、指针、hashmap、函数'\n",
    "    result = model.transcribe(audio_array, language='chinese', verbose=True, initial_prompt=prompt)\n",
    "    return \"success\", result[\"text\"]\n",
    "\n",
    "def text_to_answer(text):    \n",
    "    MODEL = \"gpt-3.5-turbo\"\n",
    "    user_text = text + \"。以上这段文本中，是否有java工程师相关的面试问题？如果有，请回答这个问题，回答需要结构化、精炼，控制在100字以内。格式：1. 问题：xxx；2.答案：xxx。如果没有，请返回'不需回答'。\"\n",
    "    response = openai.ChatCompletion.create(\n",
    "        model=MODEL,\n",
    "        messages=[\n",
    "            {\"role\": \"system\", \"content\": \"我是一个面试官，你是求职者。现在正在进行一场面试。\"},\n",
    "            {\"role\": \"user\", \"content\": user_text},\n",
    "        ],\n",
    "        temperature=0,\n",
    "    )\n",
    "    \n",
    "    return True, response.choices[0].message.content\n",
    "\n",
    "def transcribe(audio):\n",
    "    try:\n",
    "        append_text(\"识别中...\")\n",
    "        status, text = voice_to_text(audio)\n",
    "        append_text(\"识别成功：\" + text if status else \"识别失败\")\n",
    "        if not status:\n",
    "            return\n",
    "\n",
    "        # 回答问题\n",
    "        append_text(\"请求回答...\")\n",
    "        status, answer = text_to_answer(text)\n",
    "        append_text(\"参考回答：\" + answer if status else \"请求回答失败\")\n",
    "    except Exception as ex:\n",
    "        append_text(\"转换失败：\" + ex)"
   ]
  },
  {
   "cell_type": "code",
   "execution_count": null,
   "id": "0afb5485-5490-4481-8988-46ea03e85d8f",
   "metadata": {},
   "outputs": [],
   "source": []
  }
 ],
 "metadata": {
  "kernelspec": {
   "display_name": "Python 3 (ipykernel)",
   "language": "python",
   "name": "python3"
  },
  "language_info": {
   "codemirror_mode": {
    "name": "ipython",
    "version": 3
   },
   "file_extension": ".py",
   "mimetype": "text/x-python",
   "name": "python",
   "nbconvert_exporter": "python",
   "pygments_lexer": "ipython3",
   "version": "3.11.3"
  }
 },
 "nbformat": 4,
 "nbformat_minor": 5
}
